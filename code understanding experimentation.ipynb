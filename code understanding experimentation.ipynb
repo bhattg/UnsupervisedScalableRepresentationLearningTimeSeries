{
 "cells": [
  {
   "cell_type": "code",
   "execution_count": 66,
   "metadata": {},
   "outputs": [],
   "source": [
    "import torch\n",
    "import torch.nn as nn\n",
    "import numpy\n",
    "from sklearn.svm import SVC\n",
    "import sys"
   ]
  },
  {
   "cell_type": "code",
   "execution_count": 78,
   "metadata": {},
   "outputs": [],
   "source": [
    "b = 10\n",
    "c = 1\n",
    "TS = 1000"
   ]
  },
  {
   "cell_type": "code",
   "execution_count": 79,
   "metadata": {},
   "outputs": [
    {
     "name": "stdout",
     "output_type": "stream",
     "text": [
      "torch.Size([10, 10])\n",
      "832\n",
      "847\n",
      "begining batches is [133  82  90  27 109  17  43 119 150  52]\n",
      "beginning _sample_pos [10 14 10  4  7 14  8 12 14  9]\n",
      "[143  96 100  31 116  31  51 131 164  61]\n",
      "[975 928 932 863 948 863 883 963 996 893]\n"
     ]
    }
   ],
   "source": [
    "batch_size = b\n",
    "train_size = 1000\n",
    "length = 1000\n",
    "nb_random_samples = 10\n",
    "# For each batch element, we pick nb_random_samples possible random\n",
    "# time series in the training set (choice of batches from where the\n",
    "# negative examples will be sampled)\n",
    "samples = numpy.random.choice(\n",
    "    train_size, size=(nb_random_samples, batch_size)\n",
    ")\n",
    "samples = torch.LongTensor(samples)\n",
    "print(samples.shape)\n",
    "\n",
    "# Choice of length of positive and negative samples\n",
    "length_pos_neg = numpy.random.randint(1, high=length + 1)\n",
    "print(length_pos_neg)\n",
    "\n",
    "# We choose for each batch example a random interval in the time\n",
    "# series, which is the 'anchor'\n",
    "random_length = numpy.random.randint(\n",
    "    length_pos_neg, high=length + 1\n",
    ")  # Length of anchors\n",
    "print(random_length)\n",
    "\n",
    "beginning_batches = numpy.random.randint(\n",
    "    0, high=length - random_length + 1, size=batch_size\n",
    ")  # Start of anchors\n",
    "\n",
    "print(\"begining batches is {}\".format(beginning_batches))\n",
    "# The positive samples are chosen at random in the chosen anchors\n",
    "beginning_samples_pos = numpy.random.randint(\n",
    "    0, high=random_length - length_pos_neg + 1, size=batch_size\n",
    ")  # Start of positive samples in the anchors\n",
    "\n",
    "print(\"beginning _sample_pos {}\".format(beginning_samples_pos))\n",
    "\n",
    "# Start of positive samples in the batch examples\n",
    "beginning_positive = beginning_batches + beginning_samples_pos\n",
    "# End of positive samples in the batch examples\n",
    "end_positive = beginning_positive + length_pos_neg\n",
    "\n",
    "print(beginning_positive)\n",
    "print(end_positive)\n",
    "# We randomly choose nb_random_samples potential negative samples for\n",
    "# each batch example\n",
    "beginning_samples_neg = numpy.random.randint(\n",
    "    0, high=length - length_pos_neg + 1,\n",
    "    size=(nb_random_samples, batch_size)\n",
    ")"
   ]
  },
  {
   "cell_type": "code",
   "execution_count": 80,
   "metadata": {},
   "outputs": [],
   "source": [
    "batch = torch.Tensor(10, 1, 1000)"
   ]
  },
  {
   "cell_type": "code",
   "execution_count": 83,
   "metadata": {},
   "outputs": [],
   "source": [
    "a = [batch[j: j + 1, :,beginning_batches[j]: beginning_batches[j] + random_length] for j in range(10)] "
   ]
  },
  {
   "cell_type": "code",
   "execution_count": 86,
   "metadata": {},
   "outputs": [],
   "source": [
    "a =torch.cat(a)"
   ]
  },
  {
   "cell_type": "code",
   "execution_count": 87,
   "metadata": {},
   "outputs": [
    {
     "data": {
      "text/plain": [
       "torch.Size([10, 1, 847])"
      ]
     },
     "execution_count": 87,
     "metadata": {},
     "output_type": "execute_result"
    }
   ],
   "source": [
    "a.shape"
   ]
  },
  {
   "cell_type": "code",
   "execution_count": 92,
   "metadata": {},
   "outputs": [],
   "source": [
    "a = np.asarray([1, 2, 3, 4, 5])"
   ]
  },
  {
   "cell_type": "code",
   "execution_count": 93,
   "metadata": {},
   "outputs": [],
   "source": [
    "b = np.asarray([1, 2, 3, 4, 5])"
   ]
  },
  {
   "cell_type": "code",
   "execution_count": 94,
   "metadata": {},
   "outputs": [
    {
     "data": {
      "text/plain": [
       "array([ 2,  4,  6,  8, 10])"
      ]
     },
     "execution_count": 94,
     "metadata": {},
     "output_type": "execute_result"
    }
   ],
   "source": [
    "a+b"
   ]
  },
  {
   "cell_type": "code",
   "execution_count": 95,
   "metadata": {},
   "outputs": [],
   "source": [
    "a = [torch.Tensor(1, 1, 87) for i in range(10)]"
   ]
  },
  {
   "cell_type": "code",
   "execution_count": 96,
   "metadata": {},
   "outputs": [],
   "source": [
    "aa = torch.cat(a)"
   ]
  },
  {
   "cell_type": "code",
   "execution_count": 97,
   "metadata": {},
   "outputs": [
    {
     "data": {
      "text/plain": [
       "torch.Size([10, 1, 87])"
      ]
     },
     "execution_count": 97,
     "metadata": {},
     "output_type": "execute_result"
    }
   ],
   "source": [
    "aa.shape"
   ]
  },
  {
   "cell_type": "code",
   "execution_count": null,
   "metadata": {},
   "outputs": [],
   "source": []
  }
 ],
 "metadata": {
  "kernelspec": {
   "display_name": "Python [conda env:btpenv] *",
   "language": "python",
   "name": "conda-env-btpenv-py"
  },
  "language_info": {
   "codemirror_mode": {
    "name": "ipython",
    "version": 3
   },
   "file_extension": ".py",
   "mimetype": "text/x-python",
   "name": "python",
   "nbconvert_exporter": "python",
   "pygments_lexer": "ipython3",
   "version": "3.6.9"
  }
 },
 "nbformat": 4,
 "nbformat_minor": 2
}
